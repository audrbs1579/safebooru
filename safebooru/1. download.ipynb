{
 "cells": [
  {
   "cell_type": "code",
   "execution_count": 1,
   "id": "ecc00971",
   "metadata": {},
   "outputs": [],
   "source": [
    "# 필요한 Import\n",
    "import pandas as pd\n",
    "import requests\n",
    "import os\n",
    "from concurrent.futures import ThreadPoolExecutor\n",
    "from tqdm.notebook import tqdm\n",
    "import time"
   ]
  },
  {
   "cell_type": "code",
   "execution_count": null,
   "id": "200605cc",
   "metadata": {},
   "outputs": [],
   "source": [
    "# --- 경로 설정 ---\n",
    "# 모든 경로는 이 data_dir을 기준으로 생성됩니다.\n",
    "data_dir = 'safebooru\\data'\n",
    "tmp_dir = os.path.join(data_dir, 'tmp') # 원본 이미지 다운로드 폴더\n",
    "data_path = os.path.join(data_dir, 'all_data.csv')"
   ]
  },
  {
   "cell_type": "code",
   "execution_count": 3,
   "id": "aae5a6b4",
   "metadata": {},
   "outputs": [],
   "source": [
    "# --- 병렬 처리 설정 ---\n",
    "# I/O 작업이므로 워커 수를 높게 설정\n",
    "WORKERS = 32\n",
    "MAX_RETRIES = 3\n",
    "RETRY_DELAY = 3  # 초"
   ]
  },
  {
   "cell_type": "code",
   "execution_count": 4,
   "id": "19cd9899",
   "metadata": {},
   "outputs": [
    {
     "name": "stdout",
     "output_type": "stream",
     "text": [
      "전체 데이터 수: 3020460\n"
     ]
    }
   ],
   "source": [
    "df = pd.read_csv(data_path)\n",
    "print(f\"전체 데이터 수: {len(df)}\")"
   ]
  },
  {
   "cell_type": "code",
   "execution_count": 5,
   "id": "c2af04ad",
   "metadata": {},
   "outputs": [
    {
     "name": "stdout",
     "output_type": "stream",
     "text": [
      "✅ 다운로드 함수 정의 완료\n"
     ]
    }
   ],
   "source": [
    "def download_image(row):\n",
    "    # URL이 //로 시작하는 경우 http:를 붙여줌\n",
    "    url = row['sample_url']\n",
    "    if url.startswith('//'):\n",
    "        url = 'http:' + url\n",
    "    \n",
    "    # 파일 확장자 결정 (기본 .jpg)\n",
    "    ext = os.path.splitext(url)[1]\n",
    "    if ext.lower() not in ['.jpg', '.png', '.gif']:\n",
    "        ext = '.jpg'\n",
    "        \n",
    "    img_path = os.path.join(tmp_dir, f\"{row['id']}{ext}\")\n",
    "    \n",
    "    if os.path.exists(img_path):\n",
    "        return {'id': row['id'], 'status': 'exist'}\n",
    "        \n",
    "    for attempt in range(MAX_RETRIES):\n",
    "        try:\n",
    "            response = requests.get(url, timeout=15)\n",
    "            if response.status_code == 200:\n",
    "                with open(img_path, 'wb') as f:\n",
    "                    f.write(response.content)\n",
    "                return {'id': row['id'], 'status': 'success'}\n",
    "            else:\n",
    "                if attempt < MAX_RETRIES - 1:\n",
    "                    time.sleep(RETRY_DELAY)\n",
    "                    continue\n",
    "                return {'id': row['id'], 'status': f'fail_status_{response.status_code}'}\n",
    "        except Exception as e:\n",
    "            if attempt < MAX_RETRIES - 1:\n",
    "                time.sleep(RETRY_DELAY)\n",
    "                continue\n",
    "            return {'id': row['id'], 'status': 'fail_error'}\n",
    "\n",
    "print(\"✅ 다운로드 함수 정의 완료\")"
   ]
  },
  {
   "cell_type": "code",
   "execution_count": null,
   "id": "e91fb1e6",
   "metadata": {},
   "outputs": [
    {
     "data": {
      "application/vnd.jupyter.widget-view+json": {
       "model_id": "3c0bd7d83d25452380cedaad997cec11",
       "version_major": 2,
       "version_minor": 0
      },
      "text/plain": [
       "이미지 다운로드:   0%|          | 0/3020460 [00:00<?, ?it/s]"
      ]
     },
     "metadata": {},
     "output_type": "display_data"
    }
   ],
   "source": [
    "# DataFrame의 각 행을 리스트로 변환하여 map에 전달\n",
    "rows_to_download = [row for _, row in df.iterrows()]\n",
    "\n",
    "with ThreadPoolExecutor(max_workers=WORKERS) as executor:\n",
    "    results = list(tqdm(executor.map(download_image, rows_to_download), total=len(rows_to_download), desc=\"이미지 다운로드\"))\n",
    "\n",
    "# (선택) 결과 요약\n",
    "success_count = sum(1 for r in results if r['status'] == 'success')\n",
    "exist_count = sum(1 for r in results if r['status'] == 'exist')\n",
    "fail_count = sum(1 for r in results if 'fail' in r['status'])\n",
    "\n",
    "print(f\"\\n✅ 다운로드 완료: 성공 {success_count}개, 이미 존재 {exist_count}개, 실패 {fail_count}개\")"
   ]
  }
 ],
 "metadata": {
  "kernelspec": {
   "display_name": "azureml_py38",
   "language": "python",
   "name": "python3"
  },
  "language_info": {
   "codemirror_mode": {
    "name": "ipython",
    "version": 3
   },
   "file_extension": ".py",
   "mimetype": "text/x-python",
   "name": "python",
   "nbconvert_exporter": "python",
   "pygments_lexer": "ipython3",
   "version": "3.10.11"
  }
 },
 "nbformat": 4,
 "nbformat_minor": 5
}
