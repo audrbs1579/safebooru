{
 "cells": [
  {
   "cell_type": "code",
   "execution_count": 22,
   "id": "c500f4fa",
   "metadata": {},
   "outputs": [],
   "source": [
    "# 필요한 Import\n",
    "import pandas as pd\n",
    "from PIL import Image\n",
    "import os\n",
    "from tqdm import tqdm \n",
    "from concurrent.futures import ProcessPoolExecutor, as_completed"
   ]
  },
  {
   "cell_type": "code",
   "execution_count": null,
   "id": "2f3d1ff1",
   "metadata": {},
   "outputs": [],
   "source": [
    "# --- 경로 설정 ---\n",
    "data_dir = 'safebooru\\data'\n",
    "tmp_dir = os.path.join(data_dir, 'tmp') # 원본 이미지 다운로드 폴더\n",
    "process_image_dir = os.path.join(data_dir, 'images') # 전처리된 이미지 저장 경로\n",
    "data_path = os.path.join(data_dir, 'all_data.csv')"
   ]
  },
  {
   "cell_type": "code",
   "execution_count": 24,
   "id": "acc0ec47",
   "metadata": {},
   "outputs": [],
   "source": [
    "# --- 전처리 설정 ---\n",
    "MIN_SIZE = 224\n",
    "MAX_SIZE = 10000\n",
    "OUTPUT_SIZE = 224"
   ]
  },
  {
   "cell_type": "code",
   "execution_count": 25,
   "id": "797bbdd4",
   "metadata": {},
   "outputs": [
    {
     "name": "stdout",
     "output_type": "stream",
     "text": [
      "✅ 설정 완료\n",
      "전처리 워커 수: 14\n"
     ]
    }
   ],
   "source": [
    "# CPU 집중 작업이므로 코어 수에 맞춰 설정\n",
    "WORKERS = os.cpu_count() - 2  # 시스템 부하를 위해 2코어 여유\n",
    "\n",
    "print(f\"✅ 설정 완료\")\n",
    "print(f\"전처리 워커 수: {WORKERS}\")"
   ]
  },
  {
   "cell_type": "code",
   "execution_count": 26,
   "id": "fa8e8a58",
   "metadata": {},
   "outputs": [
    {
     "name": "stdout",
     "output_type": "stream",
     "text": [
      "✅ 헬퍼 함수 정의 완료\n"
     ]
    }
   ],
   "source": [
    "def resize_with_padding(image, size):\n",
    "    image.thumbnail((size, size), Image.Resampling.LANCZOS)\n",
    "    new_image = Image.new('RGB', (size, size), (0, 0, 0))\n",
    "    offset = ((size - image.width) // 2, (size - image.height) // 2)\n",
    "    new_image.paste(image, offset)\n",
    "    return new_image\n",
    "\n",
    "def process_single_image(img_path, output_path):\n",
    "    try:\n",
    "        # UserWarning을 일시적으로 무시하여 깔끔한 출력을 유도할 수 있습니다.\n",
    "        with warnings.catch_warnings():\n",
    "            warnings.simplefilter(\"ignore\", UserWarning)\n",
    "            img = Image.open(img_path).convert('RGB')\n",
    "        \n",
    "        processed_img = resize_with_padding(img, OUTPUT_SIZE)\n",
    "        processed_img.save(output_path, quality=95)\n",
    "        # 성공 시 (경로, \"success\") 튜플 반환\n",
    "        return (img_path, \"success\")\n",
    "    except Exception as e:\n",
    "        # 실패 시 (경로, \"에러 메시지\") 튜플 반환\n",
    "        return (img_path, f\"error: {e}\")\n",
    "\n",
    "# Image, warnings 라이브러리가 필요하므로 셀 상단에 추가해야 할 수 있습니다.\n",
    "import warnings\n",
    "from PIL import Image\n",
    "\n",
    "print(\"✅ 헬퍼 함수 정의 완료\")"
   ]
  },
  {
   "cell_type": "code",
   "execution_count": 27,
   "id": "826fbfab",
   "metadata": {},
   "outputs": [
    {
     "name": "stdout",
     "output_type": "stream",
     "text": [
      "--- 1. 메타데이터 로딩 ---\n",
      "-> CSV 기준, 유효한 이미지 ID 수: 3014341개\n",
      "\n",
      "--- 2. 처리 대상 파일 탐색 ---\n",
      "-> 소스 폴더(tmp)에서 찾은 파일 수: 15680개\n",
      "\n",
      "--- 3. 진단 결과 ---\n",
      "CSV에 없는 ID를 가진 파일 수: 0개\n",
      "이미 처리된 파일 수: 0개\n",
      "🔥 최종적으로 전처리할 이미지 수: 15680개\n"
     ]
    }
   ],
   "source": [
    "# 1. 메타데이터 로드 및 유효 ID 생성\n",
    "print(\"--- 1. 메타데이터 로딩 ---\")\n",
    "df = pd.read_csv(data_path)\n",
    "valid_df = df[(df['sample_width'] >= MIN_SIZE) & (df['sample_height'] >= MIN_SIZE) & \n",
    "              (df['sample_width'] <= MAX_SIZE) & (df['sample_height'] <= MAX_SIZE)]\n",
    "valid_ids = set(valid_df['id'].astype(str))\n",
    "print(f\"-> CSV 기준, 유효한 이미지 ID 수: {len(valid_ids)}개\")\n",
    "\n",
    "# 2. 전처리할 작업 목록 생성 및 진단\n",
    "print(\"\\n--- 2. 처리 대상 파일 탐색 ---\")\n",
    "tasks = []\n",
    "already_processed_count = 0\n",
    "invalid_id_count = 0\n",
    "source_file_count = 0\n",
    "\n",
    "try:\n",
    "    image_files = os.listdir(tmp_dir)\n",
    "    source_file_count = len(image_files)\n",
    "    print(f\"-> 소스 폴더(tmp)에서 찾은 파일 수: {source_file_count}개\")\n",
    "    \n",
    "    for img_name in image_files:\n",
    "        img_id = os.path.splitext(img_name)[0]\n",
    "        \n",
    "        # ID 유효성 검사\n",
    "        if img_id not in valid_ids:\n",
    "            invalid_id_count += 1\n",
    "            continue\n",
    "        \n",
    "        # 결과물 존재 여부 검사\n",
    "        output_path = os.path.join(process_image_dir, f\"{img_id}.jpg\")\n",
    "        if os.path.exists(output_path):\n",
    "            already_processed_count += 1\n",
    "            continue\n",
    "            \n",
    "        # 모든 조건을 통과하면 작업 목록에 추가\n",
    "        img_path = os.path.join(tmp_dir, img_name)\n",
    "        tasks.append((img_path, output_path))\n",
    "        \n",
    "except FileNotFoundError:\n",
    "    print(f\"오류: 소스 폴더 '{tmp_dir}'를 찾을 수 없습니다. 경로를 확인해주세요.\")\n",
    "\n",
    "# 3. 최종 진단 결과 출력\n",
    "print(\"\\n--- 3. 진단 결과 ---\")\n",
    "print(f\"CSV에 없는 ID를 가진 파일 수: {invalid_id_count}개\")\n",
    "print(f\"이미 처리된 파일 수: {already_processed_count}개\")\n",
    "print(f\"🔥 최종적으로 전처리할 이미지 수: {len(tasks)}개\")"
   ]
  },
  {
   "cell_type": "code",
   "execution_count": 29,
   "id": "751e943b",
   "metadata": {},
   "outputs": [
    {
     "name": "stdout",
     "output_type": "stream",
     "text": [
      "\n",
      "--- 4. 이미지 순차 처리 시작 ---\n"
     ]
    },
    {
     "name": "stderr",
     "output_type": "stream",
     "text": [
      "이미지 처리: 100%|██████████| 15680/15680 [04:36<00:00, 56.77it/s]"
     ]
    },
    {
     "name": "stdout",
     "output_type": "stream",
     "text": [
      "\n",
      "✅ 전처리 완료: 성공 15680개, 실패 0개\n"
     ]
    },
    {
     "name": "stderr",
     "output_type": "stream",
     "text": [
      "\n"
     ]
    }
   ],
   "source": [
    "# 병렬 처리 대신, 안정적인 일반 for문으로 순차 처리합니다.\n",
    "if tasks: # 처리할 작업이 있을 때만 실행\n",
    "    print(\"\\n--- 4. 이미지 순차 처리 시작 ---\")\n",
    "    processed_count = 0\n",
    "    error_count = 0\n",
    "    \n",
    "    # tqdm으로 진행 상황을 보면서 하나씩 처리합니다.\n",
    "    for img_path, output_path in tqdm(tasks, desc=\"이미지 처리\"):\n",
    "        result = process_single_image(img_path, output_path)\n",
    "        \n",
    "        # process_single_image 함수는 (경로, 상태) 튜플을 반환합니다.\n",
    "        path, status = result\n",
    "        \n",
    "        if status == \"success\":\n",
    "            processed_count += 1\n",
    "        else:\n",
    "            error_count += 1\n",
    "            # 오류가 발생한 파일과 원인을 출력합니다.\n",
    "            print(f\"\\n[오류] 파일 처리 실패: {os.path.basename(path)}, 원인: {status}\")\n",
    "\n",
    "    print(f\"\\n✅ 전처리 완료: 성공 {processed_count}개, 실패 {error_count}개\")\n",
    "else:\n",
    "    print(\"\\n✅ 처리할 새 이미지가 없어 전처리 작업을 건너뜁니다.\")"
   ]
  }
 ],
 "metadata": {
  "kernelspec": {
   "display_name": ".venv",
   "language": "python",
   "name": "python3"
  },
  "language_info": {
   "codemirror_mode": {
    "name": "ipython",
    "version": 3
   },
   "file_extension": ".py",
   "mimetype": "text/x-python",
   "name": "python",
   "nbconvert_exporter": "python",
   "pygments_lexer": "ipython3",
   "version": "3.12.7"
  }
 },
 "nbformat": 4,
 "nbformat_minor": 5
}
