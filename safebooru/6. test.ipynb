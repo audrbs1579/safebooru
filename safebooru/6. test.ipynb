{
 "cells": [
  {
   "cell_type": "code",
   "execution_count": 1,
   "id": "265e1449",
   "metadata": {},
   "outputs": [],
   "source": [
    "import pandas as pd\n",
    "import numpy as np\n",
    "import os\n",
    "from PIL import Image\n",
    "from tqdm import tqdm \n",
    "from concurrent.futures import ThreadPoolExecutor\n",
    "import time\n",
    "import requests\n",
    "\n",
    "# PyTorch & Scikit-learn\n",
    "import torch\n",
    "import torch.nn as nn\n",
    "import torch.optim as optim\n",
    "from torch.utils.data import Dataset, DataLoader\n",
    "import torchvision.transforms as transforms\n",
    "import torchvision.models as models\n",
    "from sklearn.metrics import f1_score\n",
    "import torch.nn.functional as F\n",
    "from sklearn.metrics import f1_score, classification_report"
   ]
  },
  {
   "cell_type": "code",
   "execution_count": null,
   "id": "9eceb509",
   "metadata": {},
   "outputs": [],
   "source": [
    "# --- 경로 설정 ---\n",
    "data_dir = 'safebooru\\data'\n",
    "tmp_dir = os.path.join(data_dir, 'tmp')\n",
    "image_dir = os.path.join(data_dir, 'images')\n",
    "model_dir = os.path.join(data_dir, 'model')\n",
    "test_csv_path = os.path.join(data_dir, 'test.csv')\n",
    "model_save_path = os.path.join(model_dir, 'best_model.pth')"
   ]
  },
  {
   "cell_type": "code",
   "execution_count": 3,
   "id": "7e468d9b",
   "metadata": {},
   "outputs": [
    {
     "name": "stdout",
     "output_type": "stream",
     "text": [
      "✅ 설정 완료, 사용 장치: cuda, 데이터로더 워커: 0\n"
     ]
    }
   ],
   "source": [
    "# --- 설정 ---\n",
    "BATCH_SIZE = 64\n",
    "NUM_WORKERS = 0\n",
    "if NUM_WORKERS > 20: NUM_WORKERS = 20\n",
    "\n",
    "MAX_RETRIES = 3\n",
    "RETRY_DELAY = 3\n",
    "\n",
    "# --- 장치 설정 ---\n",
    "device = torch.device('cuda' if torch.cuda.is_available() else 'cpu')\n",
    "print(f\"✅ 설정 완료, 사용 장치: {device}, 데이터로더 워커: {NUM_WORKERS}\")"
   ]
  },
  {
   "cell_type": "code",
   "execution_count": 4,
   "id": "e8b16bfd",
   "metadata": {},
   "outputs": [
    {
     "name": "stdout",
     "output_type": "stream",
     "text": [
      "✅ 테스트 데이터셋 로드 완료. 태그 수: 278\n"
     ]
    }
   ],
   "source": [
    "class SafebooruDataset(Dataset):\n",
    "    def __init__(self, csv_path, image_dir, transform=None):\n",
    "        self.df = pd.read_csv(csv_path)\n",
    "        self.image_dir = image_dir\n",
    "        self.transform = transform\n",
    "        self.tag_columns = [col for col in self.df.columns if col not in ['id', 'created_at', 'rating', 'score', 'sample_url', 'sample_width', 'sample_height', 'preview_url']]\n",
    "        self.labels = self.df[self.tag_columns].values.astype(np.float32)\n",
    "\n",
    "    def __len__(self):\n",
    "        return len(self.df)\n",
    "\n",
    "    def __getitem__(self, idx):\n",
    "        img_path = os.path.join(self.image_dir, f\"{self.df.iloc[idx]['id']}.jpg\")\n",
    "        image = Image.open(img_path).convert('RGB')\n",
    "        if self.transform:\n",
    "            image = self.transform(image)\n",
    "        labels = torch.from_numpy(self.labels[idx])\n",
    "        return image, labels\n",
    "\n",
    "# 테스트 데이터에는 데이터 증강을 적용하지 않음\n",
    "test_transform = transforms.Compose([\n",
    "    transforms.ToTensor(),\n",
    "    transforms.Normalize(mean=[0.485, 0.456, 0.406], std=[0.229, 0.224, 0.225])\n",
    "])\n",
    "\n",
    "test_dataset = SafebooruDataset(csv_path=test_csv_path, image_dir=image_dir, transform=test_transform)\n",
    "test_loader = DataLoader(test_dataset, batch_size=BATCH_SIZE, shuffle=False, num_workers=NUM_WORKERS, pin_memory=True)\n",
    "\n",
    "num_tags = len(test_dataset.tag_columns)\n",
    "tag_names = test_dataset.tag_columns\n",
    "\n",
    "print(f\"✅ 테스트 데이터셋 로드 완료. 태그 수: {num_tags}\")"
   ]
  },
  {
   "cell_type": "code",
   "execution_count": 5,
   "id": "ef5e6b5a",
   "metadata": {},
   "outputs": [
    {
     "name": "stdout",
     "output_type": "stream",
     "text": [
      "✅ 'best_model.pth' 모델 로드 완료\n"
     ]
    }
   ],
   "source": [
    "# 모델 구조 정의\n",
    "model = models.resnet50()\n",
    "model.fc = nn.Linear(model.fc.in_features, num_tags)\n",
    "\n",
    "# 저장된 가중치 불러오기\n",
    "model.load_state_dict(torch.load(model_save_path, map_location=device))\n",
    "model = model.to(device)\n",
    "model.eval() # 반드시 평가 모드로 설정\n",
    "\n",
    "print(f\"✅ '{os.path.basename(model_save_path)}' 모델 로드 완료\")"
   ]
  },
  {
   "cell_type": "code",
   "execution_count": 6,
   "id": "28fe2c0e",
   "metadata": {},
   "outputs": [
    {
     "name": "stderr",
     "output_type": "stream",
     "text": [
      "테스트 진행: 100%|██████████| 245/245 [02:19<00:00,  1.75it/s]"
     ]
    },
    {
     "name": "stdout",
     "output_type": "stream",
     "text": [
      "✅ 예측 완료\n"
     ]
    },
    {
     "name": "stderr",
     "output_type": "stream",
     "text": [
      "\n"
     ]
    }
   ],
   "source": [
    "all_preds = []\n",
    "all_labels = []\n",
    "\n",
    "with torch.no_grad(): # 그라디언트 계산 비활성화\n",
    "    for images, labels in tqdm(test_loader, desc=\"테스트 진행\"):\n",
    "        images, labels = images.to(device), labels.to(device)\n",
    "        \n",
    "        outputs = model(images)\n",
    "        \n",
    "        preds = torch.sigmoid(outputs) > 0.5 # 임계값 0.5 기준으로 예측\n",
    "        all_preds.append(preds.cpu().numpy())\n",
    "        all_labels.append(labels.cpu().numpy())\n",
    "\n",
    "# 리스트를 하나의 numpy 배열로 변환\n",
    "all_preds = np.concatenate(all_preds, axis=0)\n",
    "all_labels = np.concatenate(all_labels, axis=0)\n",
    "\n",
    "print(\"✅ 예측 완료\")"
   ]
  },
  {
   "cell_type": "code",
   "execution_count": 7,
   "id": "56c93de8",
   "metadata": {},
   "outputs": [
    {
     "name": "stdout",
     "output_type": "stream",
     "text": [
      "--- 🧪 최종 모델 성능 평가 🧪 ---\n",
      "Macro F1 Score: 0.3293\n",
      "Micro F1 Score: 0.3897\n",
      "Weighted F1 Score: 0.3587\n",
      "------------------------------\n",
      "주요 태그별 상세 성능 (상위 15개):\n",
      "              precision    recall  f1-score   support\n",
      "samples avg    0.452842  0.260115  0.293381  116848.0\n",
      "macro avg      0.514417  0.258852  0.329255  116848.0\n",
      "weighted avg   0.554353  0.286680  0.358694  116848.0\n",
      "micro avg      0.608258  0.286680  0.389693  116848.0\n",
      "long_hair      0.611396  0.485018  0.540923    3938.0\n",
      "touhou         0.851340  0.800611  0.825197    3927.0\n",
      "short_hair     0.601283  0.376903  0.463359    3481.0\n",
      "solo           0.496333  0.255346  0.337209    3180.0\n",
      "highres        0.545232  0.089775  0.154165    2484.0\n",
      "hat            0.741538  0.436990  0.549914    2206.0\n",
      "blonde_hair    0.608763  0.536331  0.570256    2202.0\n",
      "blue_eyes      0.607399  0.246013  0.350189    2069.0\n",
      "red_eyes       0.652657  0.412118  0.505218    1997.0\n",
      "brown_hair     0.587983  0.301099  0.398256    1820.0\n",
      "smile          0.405797  0.034022  0.062780    1646.0\n"
     ]
    }
   ],
   "source": [
    "# F1 스코어 계산\n",
    "macro_f1 = f1_score(all_labels, all_preds, average='macro', zero_division=0)\n",
    "micro_f1 = f1_score(all_labels, all_preds, average='micro', zero_division=0)\n",
    "weighted_f1 = f1_score(all_labels, all_preds, average='weighted', zero_division=0)\n",
    "\n",
    "print(\"--- 🧪 최종 모델 성능 평가 🧪 ---\")\n",
    "print(f\"Macro F1 Score: {macro_f1:.4f}\")\n",
    "print(f\"Micro F1 Score: {micro_f1:.4f}\")\n",
    "print(f\"Weighted F1 Score: {weighted_f1:.4f}\")\n",
    "print(\"-\" * 30)\n",
    "\n",
    "# 주요 태그에 대한 상세 리포트 출력 (상위 15개)\n",
    "report = classification_report(all_labels, all_preds, target_names=tag_names, zero_division=0, output_dict=True)\n",
    "report_df = pd.DataFrame(report).transpose()\n",
    "\n",
    "# support(샘플 수)가 높은 순으로 정렬하여 상위 15개 태그의 성능 확인\n",
    "print(\"주요 태그별 상세 성능 (상위 15개):\")\n",
    "print(report_df.sort_values(by='support', ascending=False).head(15))"
   ]
  }
 ],
 "metadata": {
  "kernelspec": {
   "display_name": ".venv",
   "language": "python",
   "name": "python3"
  },
  "language_info": {
   "codemirror_mode": {
    "name": "ipython",
    "version": 3
   },
   "file_extension": ".py",
   "mimetype": "text/x-python",
   "name": "python",
   "nbconvert_exporter": "python",
   "pygments_lexer": "ipython3",
   "version": "3.12.7"
  }
 },
 "nbformat": 4,
 "nbformat_minor": 5
}
