{
 "cells": [
  {
   "cell_type": "code",
   "execution_count": 1,
   "id": "d0db16ac",
   "metadata": {},
   "outputs": [],
   "source": [
    "# 데이터 전처리\n",
    "import pandas as pd\n",
    "import numpy as np\n",
    "from sklearn.preprocessing import MultiLabelBinarizer\n",
    "from sklearn.model_selection import train_test_split\n",
    "import torch\n",
    "import os"
   ]
  },
  {
   "cell_type": "code",
   "execution_count": null,
   "id": "41cf18b7",
   "metadata": {},
   "outputs": [],
   "source": [
    "# --- 경로 설정 ---\n",
    "data_dir = 'safebooru\\data'\n",
    "processed_data_path = os.path.join(data_dir, 'processed_data.csv')"
   ]
  },
  {
   "cell_type": "code",
   "execution_count": null,
   "id": "41fcfdbe",
   "metadata": {},
   "outputs": [],
   "source": [
    "# --- 설정 ---\n",
    "TAG_FREQ_THRESHOLD = 1000 # 이 빈도수 이상의 태그만 사용"
   ]
  },
  {
   "cell_type": "code",
   "execution_count": 4,
   "id": "1f9bf5d1",
   "metadata": {},
   "outputs": [],
   "source": [
    "df = pd.read_csv(processed_data_path)"
   ]
  },
  {
   "cell_type": "code",
   "execution_count": 5,
   "id": "6d275ced",
   "metadata": {},
   "outputs": [
    {
     "name": "stdout",
     "output_type": "stream",
     "text": [
      "✅ 태그 필터링 및 이진화 완료. 최종 태그 수: 4031\n"
     ]
    }
   ],
   "source": [
    "# 태그를 리스트로 변환 및 'tagme' 제거\n",
    "df['tags'] = df['tags'].astype(str).apply(lambda x: [t for t in x.split() if t != 'tagme'])\n",
    "\n",
    "# 태그 빈도 계산 및 필터링\n",
    "tag_counts = pd.Series([tag for tags in df['tags'] for tag in tags]).value_counts()\n",
    "valid_tags = tag_counts[tag_counts >= TAG_FREQ_THRESHOLD].index\n",
    "df['tags'] = df['tags'].apply(lambda tags: [t for t in tags if t in valid_tags])\n",
    "\n",
    "# 태그 이진화 (One-Hot Encoding)\n",
    "mlb = MultiLabelBinarizer(classes=valid_tags)\n",
    "tags_encoded = mlb.fit_transform(df['tags'])\n",
    "num_tags = len(mlb.classes_)\n",
    "\n",
    "# 이진화된 태그를 데이터프레임에 추가\n",
    "df_tags = pd.DataFrame(tags_encoded, columns=mlb.classes_, index=df.index)\n",
    "df = pd.concat([df.drop(columns=['tags']), df_tags], axis=1)\n",
    "\n",
    "print(f\"✅ 태그 필터링 및 이진화 완료. 최종 태그 수: {num_tags}\")"
   ]
  },
  {
   "cell_type": "code",
   "execution_count": 6,
   "id": "1c981029",
   "metadata": {},
   "outputs": [
    {
     "name": "stdout",
     "output_type": "stream",
     "text": [
      "✅ 클래스 가중치 계산 및 저장 완료.\n",
      "✅ 데이터 분할 완료 - 학습: 36220, 검증: 4528, 테스트: 4528\n"
     ]
    }
   ],
   "source": [
    "# 클래스 가중치 계산\n",
    "tag_columns = mlb.classes_\n",
    "tag_freq = df[tag_columns].sum()\n",
    "weights = 1.0 / tag_freq\n",
    "weights = weights / weights.sum() * len(tag_freq) # 정규화\n",
    "weights_tensor = torch.tensor(weights.values, dtype=torch.float32)\n",
    "\n",
    "# 가중치 저장\n",
    "torch.save(weights_tensor, os.path.join(data_dir, 'tag_weights.pt'))\n",
    "print(\"✅ 클래스 가중치 계산 및 저장 완료.\")\n",
    "\n",
    "# 데이터 분할 (80/10/10)\n",
    "train_df, temp_df = train_test_split(df, test_size=0.2, random_state=42)\n",
    "val_df, test_df = train_test_split(temp_df, test_size=0.5, random_state=42)\n",
    "\n",
    "# CSV 저장\n",
    "train_df.to_csv(os.path.join(data_dir, 'train.csv'), index=False)\n",
    "val_df.to_csv(os.path.join(data_dir, 'val.csv'), index=False)\n",
    "test_df.to_csv(os.path.join(data_dir, 'test.csv'), index=False)\n",
    "\n",
    "print(f\"✅ 데이터 분할 완료 - 학습: {len(train_df)}, 검증: {len(val_df)}, 테스트: {len(test_df)}\")"
   ]
  }
 ],
 "metadata": {
  "kernelspec": {
   "display_name": "audrbs1579",
   "language": "python",
   "name": "python3"
  },
  "language_info": {
   "codemirror_mode": {
    "name": "ipython",
    "version": 3
   },
   "file_extension": ".py",
   "mimetype": "text/x-python",
   "name": "python",
   "nbconvert_exporter": "python",
   "pygments_lexer": "ipython3",
   "version": "3.13.3"
  }
 },
 "nbformat": 4,
 "nbformat_minor": 5
}
