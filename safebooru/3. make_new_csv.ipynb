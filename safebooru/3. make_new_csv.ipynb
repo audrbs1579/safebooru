{
 "cells": [
  {
   "cell_type": "code",
   "execution_count": 1,
   "id": "5720c9c1",
   "metadata": {},
   "outputs": [],
   "source": [
    "# 필요한 Import\n",
    "import pandas as pd\n",
    "import os"
   ]
  },
  {
   "cell_type": "code",
   "execution_count": null,
   "id": "8314a5d2",
   "metadata": {},
   "outputs": [],
   "source": [
    "# --- 경로 설정 ---\n",
    "data_dir = 'safebooru\\data'\n",
    "process_image_dir = os.path.join(data_dir, 'images')\n",
    "data_path = os.path.join(data_dir, 'all_data.csv')\n",
    "output_csv_path = os.path.join(data_dir, 'processed_data.csv')"
   ]
  },
  {
   "cell_type": "code",
   "execution_count": 3,
   "id": "70eb46ec",
   "metadata": {},
   "outputs": [],
   "source": [
    "df = pd.read_csv(data_path)"
   ]
  },
  {
   "cell_type": "code",
   "execution_count": 4,
   "id": "86b2af28",
   "metadata": {},
   "outputs": [],
   "source": [
    "# 전처리된 이미지 목록에서 ID 추출\n",
    "processed_image_files = os.listdir(process_image_dir)\n",
    "processed_ids = {os.path.splitext(f)[0] for f in processed_image_files if f.endswith('.jpg')}\n",
    "\n",
    "# 원본 데이터프레임 필터링\n",
    "final_df = df[df['id'].astype(str).isin(processed_ids)].copy()\n",
    "\n",
    "# 새로운 CSV 파일로 저장\n",
    "final_df.to_csv(output_csv_path, index=False)\n"
   ]
  }
 ],
 "metadata": {
  "kernelspec": {
   "display_name": "audrbs1579",
   "language": "python",
   "name": "python3"
  },
  "language_info": {
   "codemirror_mode": {
    "name": "ipython",
    "version": 3
   },
   "file_extension": ".py",
   "mimetype": "text/x-python",
   "name": "python",
   "nbconvert_exporter": "python",
   "pygments_lexer": "ipython3",
   "version": "3.13.3"
  }
 },
 "nbformat": 4,
 "nbformat_minor": 5
}
