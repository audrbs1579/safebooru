{
 "cells": [
  {
   "cell_type": "code",
   "execution_count": 1,
   "id": "c3a2c52a",
   "metadata": {},
   "outputs": [],
   "source": [
    "import torch\n",
    "import torch.nn as nn\n",
    "import torchvision.models as models\n",
    "import torchvision.transforms as transforms\n",
    "from PIL import Image\n",
    "import pandas as pd\n",
    "import os\n",
    "from IPython.display import display, clear_output\n",
    "import ipywidgets as widgets \n",
    "import io "
   ]
  },
  {
   "cell_type": "code",
   "execution_count": null,
   "id": "6a8acbcf",
   "metadata": {},
   "outputs": [],
   "source": [
    "# --- 경로 및 설정 ---\n",
    "data_dir = 'safebooru\\data'\n",
    "model_save_path = os.path.join(data_dir, 'model/best_model.pth')\n",
    "\n",
    "# 태그 이름을 가져오기 위해 train.csv 사용\n",
    "train_csv_path = os.path.join(data_dir, 'train.csv') "
   ]
  },
  {
   "cell_type": "code",
   "execution_count": 3,
   "id": "437f6ab9",
   "metadata": {},
   "outputs": [
    {
     "name": "stdout",
     "output_type": "stream",
     "text": [
      "✅ 설정 완료, 사용 장치: cuda\n"
     ]
    }
   ],
   "source": [
    "# --- 장치 설정 ---\n",
    "device = torch.device('cuda' if torch.cuda.is_available() else 'cpu')\n",
    "print(f\"✅ 설정 완료, 사용 장치: {device}\")"
   ]
  },
  {
   "cell_type": "code",
   "execution_count": 4,
   "id": "95f1cff6",
   "metadata": {},
   "outputs": [
    {
     "name": "stdout",
     "output_type": "stream",
     "text": [
      "✅ 모델 및 278개 태그 이름 로드 완료\n"
     ]
    }
   ],
   "source": [
    "# 태그 이름(클래스) 목록 로드\n",
    "train_df = pd.read_csv(train_csv_path)\n",
    "tag_names = [col for col in train_df.columns if col not in ['id', 'created_at', 'rating', 'score', 'sample_url', 'sample_width', 'sample_height', 'preview_url']]\n",
    "num_tags = len(tag_names)\n",
    "\n",
    "# 모델 구조 정의 및 가중치 로드\n",
    "model = models.resnet50()\n",
    "model.fc = nn.Linear(model.fc.in_features, num_tags)\n",
    "model.load_state_dict(torch.load(model_save_path, map_location=device))\n",
    "model = model.to(device)\n",
    "model.eval()\n",
    "\n",
    "print(f\"✅ 모델 및 {num_tags}개 태그 이름 로드 완료\")"
   ]
  },
  {
   "cell_type": "code",
   "execution_count": 5,
   "id": "7c7027df",
   "metadata": {},
   "outputs": [
    {
     "name": "stdout",
     "output_type": "stream",
     "text": [
      "✅ 추론 함수 정의 완료\n"
     ]
    }
   ],
   "source": [
    "def predict_tags(model, device, transform, tag_names, image_path=None, image_bytes=None, threshold=0.5):\n",
    "    \"\"\"\n",
    "    단일 이미지의 태그를 예측하고, 예측된 태그 리스트와 PIL 이미지 객체를 반환합니다.\n",
    "    \"\"\"\n",
    "    if image_path:\n",
    "        try:\n",
    "            image = Image.open(image_path).convert(\"RGB\")\n",
    "        except FileNotFoundError:\n",
    "            return f\"오류: '{image_path}' 파일을 찾을 수 없습니다.\", None\n",
    "    elif image_bytes:\n",
    "        image = Image.open(io.BytesIO(image_bytes)).convert(\"RGB\")\n",
    "    else:\n",
    "        return \"오류: 예측할 이미지가 제공되지 않았습니다.\", None\n",
    "\n",
    "    # 이미지 전처리 및 예측\n",
    "    image_tensor = transform(image).unsqueeze(0).to(device)\n",
    "    with torch.no_grad():\n",
    "        outputs = model(image_tensor)\n",
    "        preds = torch.sigmoid(outputs) > threshold\n",
    "    \n",
    "    predicted_indices = preds[0].nonzero(as_tuple=True)[0]\n",
    "    predicted_tags = [tag_names[i] for i in predicted_indices]\n",
    "    \n",
    "    # 예측된 태그 리스트와 이미지 객체를 반환\n",
    "    return predicted_tags, image\n",
    "\n",
    "# 추론에 사용할 이미지 변환 (수정 없음)\n",
    "inference_transform = transforms.Compose([\n",
    "    transforms.Resize((224, 224)),\n",
    "    transforms.ToTensor(),\n",
    "    transforms.Normalize(mean=[0.485, 0.456, 0.406], std=[0.229, 0.224, 0.225]),\n",
    "])\n",
    "\n",
    "print(\"✅ 추론 함수 정의 완료\")"
   ]
  },
  {
   "cell_type": "code",
   "execution_count": 6,
   "id": "5a75e243",
   "metadata": {},
   "outputs": [
    {
     "data": {
      "application/vnd.jupyter.widget-view+json": {
       "model_id": "05901e4074784a20b964cf52da0e9467",
       "version_major": 2,
       "version_minor": 0
      },
      "text/plain": [
       "FileUpload(value=(), accept='image/*', description='이미지 업로드')"
      ]
     },
     "metadata": {},
     "output_type": "display_data"
    },
    {
     "data": {
      "application/vnd.jupyter.widget-view+json": {
       "model_id": "3a10e48c897b407098c316c3bdb83494",
       "version_major": 2,
       "version_minor": 0
      },
      "text/plain": [
       "Output()"
      ]
     },
     "metadata": {},
     "output_type": "display_data"
    }
   ],
   "source": [
    "# 1. 파일 업로드 위젯과 결과를 표시할 출력 위젯을 만듭니다.\n",
    "uploader = widgets.FileUpload(\n",
    "    accept='image/*',\n",
    "    multiple=False,\n",
    "    description='이미지 업로드'\n",
    ")\n",
    "out = widgets.Output() # 결과를 표시할 전용 공간\n",
    "\n",
    "# 2. 파일이 업로드되면 실행될 함수를 수정합니다.\n",
    "def on_upload_change(change):\n",
    "    if not change['new']:\n",
    "        return\n",
    "    \n",
    "    with out:\n",
    "        clear_output(wait=True)\n",
    "        \n",
    "        uploaded_file_info = change['owner'].value[0]\n",
    "        image_bytes = uploaded_file_info['content']\n",
    "\n",
    "        # ★★★ 예측 함수로부터 결과(태그, 이미지)를 받아옴 ★★★\n",
    "        predicted_tags, image_to_display = predict_tags(\n",
    "            model=model,\n",
    "            device=device,\n",
    "            transform=inference_transform,\n",
    "            tag_names=tag_names,\n",
    "            image_bytes=image_bytes,\n",
    "            threshold=0.5\n",
    "        )\n",
    "\n",
    "        # ★★★ 받아온 결과를 여기서 직접 출력 ★★★\n",
    "        if image_to_display:\n",
    "            print(\"--- 🖼️ 입력된 이미지 🖼️ ---\")\n",
    "            display(image_to_display.resize((224, int(224 * image_to_display.height / image_to_display.width))))\n",
    "        \n",
    "        print(\"\\n--- 🚀 예측된 태그 🚀 ---\")\n",
    "        if isinstance(predicted_tags, list) and predicted_tags:\n",
    "            tags_per_line = 5\n",
    "            for i in range(0, len(predicted_tags), tags_per_line):\n",
    "                print(\"  \".join(predicted_tags[i:i+tags_per_line]))\n",
    "        elif isinstance(predicted_tags, list):\n",
    "            print(\"예측된 태그가 없습니다.\")\n",
    "        else:\n",
    "            print(predicted_tags) # 오류 메시지 출력\n",
    "        \n",
    "        with uploader.hold_sync():\n",
    "            uploader.value = ()\n",
    "\n",
    "# 3. 위젯의 변경을 감지하도록 설정합니다.\n",
    "uploader.observe(on_upload_change, names='value')\n",
    "\n",
    "# 4. 업로드 버튼과 출력 영역을 함께 표시합니다.\n",
    "display(uploader, out)"
   ]
  }
 ],
 "metadata": {
  "kernelspec": {
   "display_name": ".venv",
   "language": "python",
   "name": "python3"
  },
  "language_info": {
   "codemirror_mode": {
    "name": "ipython",
    "version": 3
   },
   "file_extension": ".py",
   "mimetype": "text/x-python",
   "name": "python",
   "nbconvert_exporter": "python",
   "pygments_lexer": "ipython3",
   "version": "3.12.7"
  }
 },
 "nbformat": 4,
 "nbformat_minor": 5
}
